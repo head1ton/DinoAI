{
 "cells": [
  {
   "cell_type": "code",
   "id": "initial_id",
   "metadata": {
    "collapsed": true,
    "ExecuteTime": {
     "end_time": "2025-04-13T09:47:03.177783Z",
     "start_time": "2025-04-13T09:45:54.591960Z"
    }
   },
   "source": [
    "import gymnasium.utils.seeding\n",
    "!pip install torch torchvision torchaudio --extra-index-url https://download.pytorch.org/whl/cu113"
   ],
   "outputs": [
    {
     "name": "stdout",
     "output_type": "stream",
     "text": [
      "Looking in indexes: https://pypi.org/simple, https://download.pytorch.org/whl/cu113\r\n",
      "Collecting torch\r\n",
      "  Obtaining dependency information for torch from https://files.pythonhosted.org/packages/3b/55/7192974ab13e5e5577f45d14ce70d42f5a9a686b4f57bbe8c9ab45c4a61a/torch-2.2.2-cp310-none-macosx_10_9_x86_64.whl.metadata\r\n",
      "  Downloading torch-2.2.2-cp310-none-macosx_10_9_x86_64.whl.metadata (25 kB)\r\n",
      "Collecting torchvision\r\n",
      "  Obtaining dependency information for torchvision from https://files.pythonhosted.org/packages/a2/70/c781e0433ab7b8f6f693580e5065ae17c3785b2836200311765f99535ef8/torchvision-0.17.2-cp310-cp310-macosx_10_13_x86_64.whl.metadata\r\n",
      "  Downloading torchvision-0.17.2-cp310-cp310-macosx_10_13_x86_64.whl.metadata (6.6 kB)\r\n",
      "Collecting torchaudio\r\n",
      "  Obtaining dependency information for torchaudio from https://files.pythonhosted.org/packages/76/70/ca793994d37815070f6b53932b71822f66cfb3e197e6937426815998221e/torchaudio-2.2.2-cp310-cp310-macosx_10_13_x86_64.whl.metadata\r\n",
      "  Downloading torchaudio-2.2.2-cp310-cp310-macosx_10_13_x86_64.whl.metadata (6.4 kB)\r\n",
      "Collecting filelock (from torch)\r\n",
      "  Obtaining dependency information for filelock from https://files.pythonhosted.org/packages/4d/36/2a115987e2d8c300a974597416d9de88f2444426de9571f4b59b2cca3acc/filelock-3.18.0-py3-none-any.whl.metadata\r\n",
      "  Using cached filelock-3.18.0-py3-none-any.whl.metadata (2.9 kB)\r\n",
      "Requirement already satisfied: typing-extensions>=4.8.0 in ./.venv/lib/python3.10/site-packages (from torch) (4.13.2)\r\n",
      "Collecting sympy (from torch)\r\n",
      "  Obtaining dependency information for sympy from https://files.pythonhosted.org/packages/99/ff/c87e0622b1dadea79d2fb0b25ade9ed98954c9033722eb707053d310d4f3/sympy-1.13.3-py3-none-any.whl.metadata\r\n",
      "  Using cached sympy-1.13.3-py3-none-any.whl.metadata (12 kB)\r\n",
      "Collecting networkx (from torch)\r\n",
      "  Obtaining dependency information for networkx from https://files.pythonhosted.org/packages/b9/54/dd730b32ea14ea797530a4479b2ed46a6fb250f682a9cfb997e968bf0261/networkx-3.4.2-py3-none-any.whl.metadata\r\n",
      "  Using cached networkx-3.4.2-py3-none-any.whl.metadata (6.3 kB)\r\n",
      "Requirement already satisfied: jinja2 in ./.venv/lib/python3.10/site-packages (from torch) (3.1.6)\r\n",
      "Collecting fsspec (from torch)\r\n",
      "  Obtaining dependency information for fsspec from https://files.pythonhosted.org/packages/44/4b/e0cfc1a6f17e990f3e64b7d941ddc4acdc7b19d6edd51abf495f32b1a9e4/fsspec-2025.3.2-py3-none-any.whl.metadata\r\n",
      "  Downloading fsspec-2025.3.2-py3-none-any.whl.metadata (11 kB)\r\n",
      "Collecting numpy (from torchvision)\r\n",
      "  Obtaining dependency information for numpy from https://files.pythonhosted.org/packages/7f/a5/3d7094aa898f4fc5c84cdfb26beeae780352d43f5d8bdec966c4393d644c/numpy-2.2.4-cp310-cp310-macosx_14_0_x86_64.whl.metadata\r\n",
      "  Using cached numpy-2.2.4-cp310-cp310-macosx_14_0_x86_64.whl.metadata (62 kB)\r\n",
      "Collecting pillow!=8.3.*,>=5.3.0 (from torchvision)\r\n",
      "  Obtaining dependency information for pillow!=8.3.*,>=5.3.0 from https://files.pythonhosted.org/packages/0d/8b/b158ad57ed44d3cc54db8d68ad7c0a58b8fc0e4c7a3f995f9d62d5b464a1/pillow-11.2.1-cp310-cp310-macosx_10_10_x86_64.whl.metadata\r\n",
      "  Downloading pillow-11.2.1-cp310-cp310-macosx_10_10_x86_64.whl.metadata (8.9 kB)\r\n",
      "Requirement already satisfied: MarkupSafe>=2.0 in ./.venv/lib/python3.10/site-packages (from jinja2->torch) (3.0.2)\r\n",
      "Collecting mpmath<1.4,>=1.1.0 (from sympy->torch)\r\n",
      "  Downloading https://download.pytorch.org/whl/mpmath-1.3.0-py3-none-any.whl (536 kB)\r\n",
      "\u001B[2K     \u001B[90m━━━━━━━━━━━━━━━━━━━━━━━━━━━━━━━━━━━━━━━\u001B[0m \u001B[32m536.2/536.2 kB\u001B[0m \u001B[31m4.4 MB/s\u001B[0m eta \u001B[36m0:00:00\u001B[0m00:01\u001B[0m00:01\u001B[0m\r\n",
      "\u001B[?25hUsing cached torch-2.2.2-cp310-none-macosx_10_9_x86_64.whl (150.8 MB)\r\n",
      "Using cached torchvision-0.17.2-cp310-cp310-macosx_10_13_x86_64.whl (1.7 MB)\r\n",
      "Downloading torchaudio-2.2.2-cp310-cp310-macosx_10_13_x86_64.whl (3.4 MB)\r\n",
      "\u001B[2K   \u001B[90m━━━━━━━━━━━━━━━━━━━━━━━━━━━━━━━━━━━━━━━━\u001B[0m \u001B[32m3.4/3.4 MB\u001B[0m \u001B[31m1.7 MB/s\u001B[0m eta \u001B[36m0:00:00\u001B[0m00:01\u001B[0m00:01\u001B[0m\r\n",
      "\u001B[?25hDownloading pillow-11.2.1-cp310-cp310-macosx_10_10_x86_64.whl (3.2 MB)\r\n",
      "\u001B[2K   \u001B[90m━━━━━━━━━━━━━━━━━━━━━━━━━━━━━━━━━━━━━━━━\u001B[0m \u001B[32m3.2/3.2 MB\u001B[0m \u001B[31m4.7 MB/s\u001B[0m eta \u001B[36m0:00:00\u001B[0m00:01\u001B[0m00:01\u001B[0m\r\n",
      "\u001B[?25hUsing cached filelock-3.18.0-py3-none-any.whl (16 kB)\r\n",
      "Downloading fsspec-2025.3.2-py3-none-any.whl (194 kB)\r\n",
      "\u001B[2K   \u001B[90m━━━━━━━━━━━━━━━━━━━━━━━━━━━━━━━━━━━━━━━━\u001B[0m \u001B[32m194.4/194.4 kB\u001B[0m \u001B[31m4.1 MB/s\u001B[0m eta \u001B[36m0:00:00\u001B[0ma \u001B[36m0:00:01\u001B[0m\r\n",
      "\u001B[?25hUsing cached networkx-3.4.2-py3-none-any.whl (1.7 MB)\r\n",
      "Using cached numpy-2.2.4-cp310-cp310-macosx_14_0_x86_64.whl (7.0 MB)\r\n",
      "Using cached sympy-1.13.3-py3-none-any.whl (6.2 MB)\r\n",
      "Installing collected packages: mpmath, sympy, pillow, numpy, networkx, fsspec, filelock, torch, torchvision, torchaudio\r\n",
      "Successfully installed filelock-3.18.0 fsspec-2025.3.2 mpmath-1.3.0 networkx-3.4.2 numpy-2.2.4 pillow-11.2.1 sympy-1.13.3 torch-2.2.2 torchaudio-2.2.2 torchvision-0.17.2\r\n",
      "\r\n",
      "\u001B[1m[\u001B[0m\u001B[34;49mnotice\u001B[0m\u001B[1;39;49m]\u001B[0m\u001B[39;49m A new release of pip is available: \u001B[0m\u001B[31;49m23.2.1\u001B[0m\u001B[39;49m -> \u001B[0m\u001B[32;49m25.0.1\u001B[0m\r\n",
      "\u001B[1m[\u001B[0m\u001B[34;49mnotice\u001B[0m\u001B[1;39;49m]\u001B[0m\u001B[39;49m To update, run: \u001B[0m\u001B[32;49mpip install --upgrade pip\u001B[0m\r\n"
     ]
    }
   ],
   "execution_count": 1
  },
  {
   "metadata": {
    "ExecuteTime": {
     "end_time": "2025-04-13T09:47:10.269587Z",
     "start_time": "2025-04-13T09:47:10.127915Z"
    }
   },
   "cell_type": "code",
   "source": "!pip install stable-baseline3[extra] protobuf==3.20.*",
   "id": "976fd3f6d42e7e59",
   "outputs": [
    {
     "name": "stdout",
     "output_type": "stream",
     "text": [
      "zsh:1: no matches found: stable-baseline3[extra]\r\n"
     ]
    }
   ],
   "execution_count": 2
  },
  {
   "metadata": {
    "ExecuteTime": {
     "end_time": "2025-04-13T09:47:14.254514Z",
     "start_time": "2025-04-13T09:47:11.394568Z"
    }
   },
   "cell_type": "code",
   "source": "!pip install mss pyautogui pytesseract",
   "id": "bed7cb0b2139ec0",
   "outputs": [
    {
     "name": "stdout",
     "output_type": "stream",
     "text": [
      "Collecting mss\r\n",
      "  Obtaining dependency information for mss from https://files.pythonhosted.org/packages/29/aa/b897ae9e1c1616e4df9fb319637ef6a9d07cca6d46de6b59c80209f006a4/mss-10.0.0-py3-none-any.whl.metadata\r\n",
      "  Downloading mss-10.0.0-py3-none-any.whl.metadata (6.1 kB)\r\n",
      "Collecting pydirectinput\r\n",
      "  Obtaining dependency information for pydirectinput from https://files.pythonhosted.org/packages/c9/8e/f909defe798270afc2241d3a8986d51459e70c37f02d2ba549627b781b2c/PyDirectInput-1.0.4-py3-none-any.whl.metadata\r\n",
      "  Downloading PyDirectInput-1.0.4-py3-none-any.whl.metadata (3.9 kB)\r\n",
      "Collecting pytesseract\r\n",
      "  Obtaining dependency information for pytesseract from https://files.pythonhosted.org/packages/7a/33/8312d7ce74670c9d39a532b2c246a853861120486be9443eebf048043637/pytesseract-0.3.13-py3-none-any.whl.metadata\r\n",
      "  Downloading pytesseract-0.3.13-py3-none-any.whl.metadata (11 kB)\r\n",
      "Requirement already satisfied: packaging>=21.3 in ./.venv/lib/python3.10/site-packages (from pytesseract) (24.2)\r\n",
      "Requirement already satisfied: Pillow>=8.0.0 in ./.venv/lib/python3.10/site-packages (from pytesseract) (11.2.1)\r\n",
      "Downloading mss-10.0.0-py3-none-any.whl (24 kB)\r\n",
      "Downloading PyDirectInput-1.0.4-py3-none-any.whl (8.9 kB)\r\n",
      "Downloading pytesseract-0.3.13-py3-none-any.whl (14 kB)\r\n",
      "Installing collected packages: pytesseract, pydirectinput, mss\r\n",
      "Successfully installed mss-10.0.0 pydirectinput-1.0.4 pytesseract-0.3.13\r\n",
      "\r\n",
      "\u001B[1m[\u001B[0m\u001B[34;49mnotice\u001B[0m\u001B[1;39;49m]\u001B[0m\u001B[39;49m A new release of pip is available: \u001B[0m\u001B[31;49m23.2.1\u001B[0m\u001B[39;49m -> \u001B[0m\u001B[32;49m25.0.1\u001B[0m\r\n",
      "\u001B[1m[\u001B[0m\u001B[34;49mnotice\u001B[0m\u001B[1;39;49m]\u001B[0m\u001B[39;49m To update, run: \u001B[0m\u001B[32;49mpip install --upgrade pip\u001B[0m\r\n"
     ]
    }
   ],
   "execution_count": 3
  },
  {
   "metadata": {},
   "cell_type": "code",
   "outputs": [],
   "execution_count": null,
   "source": "# chrome://dino/",
   "id": "615f07e8ba2541a8"
  },
  {
   "metadata": {
    "ExecuteTime": {
     "end_time": "2025-04-13T09:50:05.970896Z",
     "start_time": "2025-04-13T09:49:51.485612Z"
    }
   },
   "cell_type": "code",
   "source": "!pip install opencv-python matplotlib",
   "id": "f67dcb9bc5e1147b",
   "outputs": [
    {
     "name": "stdout",
     "output_type": "stream",
     "text": [
      "Collecting opencv-python\r\n",
      "  Obtaining dependency information for opencv-python from https://files.pythonhosted.org/packages/3b/84/0a67490741867eacdfa37bc18df96e08a9d579583b419010d7f3da8ff503/opencv_python-4.11.0.86-cp37-abi3-macosx_13_0_x86_64.whl.metadata\r\n",
      "  Using cached opencv_python-4.11.0.86-cp37-abi3-macosx_13_0_x86_64.whl.metadata (20 kB)\r\n",
      "Collecting matplotlib\r\n",
      "  Obtaining dependency information for matplotlib from https://files.pythonhosted.org/packages/ee/b1/f70e27cf1cd76ce2a5e1aa5579d05afe3236052c6d9b9a96325bc823a17e/matplotlib-3.10.1-cp310-cp310-macosx_10_12_x86_64.whl.metadata\r\n",
      "  Using cached matplotlib-3.10.1-cp310-cp310-macosx_10_12_x86_64.whl.metadata (11 kB)\r\n",
      "Collecting gym\r\n",
      "  Downloading gym-0.26.2.tar.gz (721 kB)\r\n",
      "\u001B[2K     \u001B[90m━━━━━━━━━━━━━━━━━━━━━━━━━━━━━━━━━━━━━━━\u001B[0m \u001B[32m721.7/721.7 kB\u001B[0m \u001B[31m3.9 MB/s\u001B[0m eta \u001B[36m0:00:00\u001B[0m00:01\u001B[0m00:01\u001B[0m\r\n",
      "\u001B[?25h  Installing build dependencies ... \u001B[?25ldone\r\n",
      "\u001B[?25h  Getting requirements to build wheel ... \u001B[?25ldone\r\n",
      "\u001B[?25h  Preparing metadata (pyproject.toml) ... \u001B[?25ldone\r\n",
      "\u001B[?25hRequirement already satisfied: numpy>=1.21.2 in ./.venv/lib/python3.10/site-packages (from opencv-python) (2.2.4)\r\n",
      "Collecting contourpy>=1.0.1 (from matplotlib)\r\n",
      "  Obtaining dependency information for contourpy>=1.0.1 from https://files.pythonhosted.org/packages/b2/a3/80937fe3efe0edacf67c9a20b955139a1a622730042c1ea991956f2704ad/contourpy-1.3.1-cp310-cp310-macosx_10_9_x86_64.whl.metadata\r\n",
      "  Downloading contourpy-1.3.1-cp310-cp310-macosx_10_9_x86_64.whl.metadata (5.4 kB)\r\n",
      "Collecting cycler>=0.10 (from matplotlib)\r\n",
      "  Obtaining dependency information for cycler>=0.10 from https://files.pythonhosted.org/packages/e7/05/c19819d5e3d95294a6f5947fb9b9629efb316b96de511b418c53d245aae6/cycler-0.12.1-py3-none-any.whl.metadata\r\n",
      "  Using cached cycler-0.12.1-py3-none-any.whl.metadata (3.8 kB)\r\n",
      "Collecting fonttools>=4.22.0 (from matplotlib)\r\n",
      "  Obtaining dependency information for fonttools>=4.22.0 from https://files.pythonhosted.org/packages/26/2b/6957890c52c030b0bf9e0add53e5badab4682c6ff024fac9a332bb2ae063/fonttools-4.57.0-cp310-cp310-macosx_10_9_x86_64.whl.metadata\r\n",
      "  Downloading fonttools-4.57.0-cp310-cp310-macosx_10_9_x86_64.whl.metadata (102 kB)\r\n",
      "\u001B[2K     \u001B[90m━━━━━━━━━━━━━━━━━━━━━━━━━━━━━━━━━━━━━━━\u001B[0m \u001B[32m102.5/102.5 kB\u001B[0m \u001B[31m2.9 MB/s\u001B[0m eta \u001B[36m0:00:00\u001B[0m\r\n",
      "\u001B[?25hCollecting kiwisolver>=1.3.1 (from matplotlib)\r\n",
      "  Obtaining dependency information for kiwisolver>=1.3.1 from https://files.pythonhosted.org/packages/1d/70/7f5af2a18a76fe92ea14675f8bd88ce53ee79e37900fa5f1a1d8e0b42998/kiwisolver-1.4.8-cp310-cp310-macosx_10_9_x86_64.whl.metadata\r\n",
      "  Downloading kiwisolver-1.4.8-cp310-cp310-macosx_10_9_x86_64.whl.metadata (6.2 kB)\r\n",
      "Requirement already satisfied: packaging>=20.0 in ./.venv/lib/python3.10/site-packages (from matplotlib) (24.2)\r\n",
      "Requirement already satisfied: pillow>=8 in ./.venv/lib/python3.10/site-packages (from matplotlib) (11.2.1)\r\n",
      "Collecting pyparsing>=2.3.1 (from matplotlib)\r\n",
      "  Obtaining dependency information for pyparsing>=2.3.1 from https://files.pythonhosted.org/packages/05/e7/df2285f3d08fee213f2d041540fa4fc9ca6c2d44cf36d3a035bf2a8d2bcc/pyparsing-3.2.3-py3-none-any.whl.metadata\r\n",
      "  Using cached pyparsing-3.2.3-py3-none-any.whl.metadata (5.0 kB)\r\n",
      "Requirement already satisfied: python-dateutil>=2.7 in ./.venv/lib/python3.10/site-packages (from matplotlib) (2.9.0.post0)\r\n",
      "Collecting cloudpickle>=1.2.0 (from gym)\r\n",
      "  Obtaining dependency information for cloudpickle>=1.2.0 from https://files.pythonhosted.org/packages/7e/e8/64c37fadfc2816a7701fa8a6ed8d87327c7d54eacfbfb6edab14a2f2be75/cloudpickle-3.1.1-py3-none-any.whl.metadata\r\n",
      "  Downloading cloudpickle-3.1.1-py3-none-any.whl.metadata (7.1 kB)\r\n",
      "Collecting gym_notices>=0.0.4 (from gym)\r\n",
      "  Obtaining dependency information for gym_notices>=0.0.4 from https://files.pythonhosted.org/packages/25/26/d786c6bec30fe6110fd3d22c9a273a2a0e56c0b73b93e25ea1af5a53243b/gym_notices-0.0.8-py3-none-any.whl.metadata\r\n",
      "  Downloading gym_notices-0.0.8-py3-none-any.whl.metadata (1.0 kB)\r\n",
      "Requirement already satisfied: six>=1.5 in ./.venv/lib/python3.10/site-packages (from python-dateutil>=2.7->matplotlib) (1.17.0)\r\n",
      "Using cached opencv_python-4.11.0.86-cp37-abi3-macosx_13_0_x86_64.whl (56.7 MB)\r\n",
      "Using cached matplotlib-3.10.1-cp310-cp310-macosx_10_12_x86_64.whl (8.2 MB)\r\n",
      "Downloading cloudpickle-3.1.1-py3-none-any.whl (20 kB)\r\n",
      "Using cached contourpy-1.3.1-cp310-cp310-macosx_10_9_x86_64.whl (268 kB)\r\n",
      "Using cached cycler-0.12.1-py3-none-any.whl (8.3 kB)\r\n",
      "Downloading fonttools-4.57.0-cp310-cp310-macosx_10_9_x86_64.whl (2.3 MB)\r\n",
      "\u001B[2K   \u001B[90m━━━━━━━━━━━━━━━━━━━━━━━━━━━━━━━━━━━━━━━━\u001B[0m \u001B[32m2.3/2.3 MB\u001B[0m \u001B[31m5.0 MB/s\u001B[0m eta \u001B[36m0:00:00\u001B[0m00:01\u001B[0m00:01\u001B[0m\r\n",
      "\u001B[?25hDownloading gym_notices-0.0.8-py3-none-any.whl (3.0 kB)\r\n",
      "Using cached kiwisolver-1.4.8-cp310-cp310-macosx_10_9_x86_64.whl (66 kB)\r\n",
      "Using cached pyparsing-3.2.3-py3-none-any.whl (111 kB)\r\n",
      "Building wheels for collected packages: gym\r\n",
      "  Building wheel for gym (pyproject.toml) ... \u001B[?25ldone\r\n",
      "\u001B[?25h  Created wheel for gym: filename=gym-0.26.2-py3-none-any.whl size=827727 sha256=25a4c37d87ceeef3b1ebab9a6d1fa0fb52d9fed087568022c4f26ee82a46ded2\r\n",
      "  Stored in directory: /Users/hwan/Library/Caches/pip/wheels/b9/22/6d/3e7b32d98451b4cd9d12417052affbeeeea012955d437da1da\r\n",
      "Successfully built gym\r\n",
      "Installing collected packages: gym_notices, pyparsing, opencv-python, kiwisolver, fonttools, cycler, contourpy, cloudpickle, matplotlib, gym\r\n",
      "Successfully installed cloudpickle-3.1.1 contourpy-1.3.1 cycler-0.12.1 fonttools-4.57.0 gym-0.26.2 gym_notices-0.0.8 kiwisolver-1.4.8 matplotlib-3.10.1 opencv-python-4.11.0.86 pyparsing-3.2.3\r\n",
      "\r\n",
      "\u001B[1m[\u001B[0m\u001B[34;49mnotice\u001B[0m\u001B[1;39;49m]\u001B[0m\u001B[39;49m A new release of pip is available: \u001B[0m\u001B[31;49m23.2.1\u001B[0m\u001B[39;49m -> \u001B[0m\u001B[32;49m25.0.1\u001B[0m\r\n",
      "\u001B[1m[\u001B[0m\u001B[34;49mnotice\u001B[0m\u001B[1;39;49m]\u001B[0m\u001B[39;49m To update, run: \u001B[0m\u001B[32;49mpip install --upgrade pip\u001B[0m\r\n"
     ]
    }
   ],
   "execution_count": 6
  },
  {
   "metadata": {
    "ExecuteTime": {
     "end_time": "2025-04-13T11:40:17.076719Z",
     "start_time": "2025-04-13T11:40:14.655308Z"
    }
   },
   "cell_type": "code",
   "source": "!pip install gymnasium",
   "id": "9226808801095afb",
   "outputs": [
    {
     "name": "stdout",
     "output_type": "stream",
     "text": [
      "Requirement already satisfied: gymnasium in ./.venv/lib/python3.10/site-packages (1.0.0)\r\n",
      "Requirement already satisfied: numpy>=1.21.0 in ./.venv/lib/python3.10/site-packages (from gymnasium) (1.26.4)\r\n",
      "Requirement already satisfied: cloudpickle>=1.2.0 in ./.venv/lib/python3.10/site-packages (from gymnasium) (3.1.1)\r\n",
      "Requirement already satisfied: typing-extensions>=4.3.0 in ./.venv/lib/python3.10/site-packages (from gymnasium) (4.13.2)\r\n",
      "Requirement already satisfied: farama-notifications>=0.0.1 in ./.venv/lib/python3.10/site-packages (from gymnasium) (0.0.4)\r\n",
      "\r\n",
      "\u001B[1m[\u001B[0m\u001B[34;49mnotice\u001B[0m\u001B[1;39;49m]\u001B[0m\u001B[39;49m A new release of pip is available: \u001B[0m\u001B[31;49m23.2.1\u001B[0m\u001B[39;49m -> \u001B[0m\u001B[32;49m25.0.1\u001B[0m\r\n",
      "\u001B[1m[\u001B[0m\u001B[34;49mnotice\u001B[0m\u001B[1;39;49m]\u001B[0m\u001B[39;49m To update, run: \u001B[0m\u001B[32;49mpip install --upgrade pip\u001B[0m\r\n"
     ]
    }
   ],
   "execution_count": 21
  },
  {
   "metadata": {
    "ExecuteTime": {
     "end_time": "2025-04-13T11:45:02.417187Z",
     "start_time": "2025-04-13T11:45:02.412693Z"
    }
   },
   "cell_type": "code",
   "source": [
    "from mss import mss\n",
    "import pyautogui\n",
    "import cv2\n",
    "import numpy as np\n",
    "import pytesseract\n",
    "from matplotlib import pyplot as plt\n",
    "import time\n",
    "import gymnasium\n",
    "from gymnasium import Env\n",
    "from gymnasium.spaces import Box, Discrete"
   ],
   "id": "7e01653eba924776",
   "outputs": [],
   "execution_count": 61
  },
  {
   "metadata": {
    "ExecuteTime": {
     "end_time": "2025-04-13T11:44:00.181245Z",
     "start_time": "2025-04-13T11:44:00.175735Z"
    }
   },
   "cell_type": "code",
   "source": "pyautogui.size()",
   "id": "e1f6884450f75b4a",
   "outputs": [
    {
     "data": {
      "text/plain": [
       "Size(width=2048, height=1280)"
      ]
     },
     "execution_count": 48,
     "metadata": {},
     "output_type": "execute_result"
    }
   ],
   "execution_count": 48
  },
  {
   "metadata": {
    "ExecuteTime": {
     "end_time": "2025-04-13T12:42:15.330749Z",
     "start_time": "2025-04-13T12:42:15.310567Z"
    }
   },
   "cell_type": "code",
   "source": [
    "class WebGame(Env):\n",
    "    def __init__(self):\n",
    "        super().__init__()\n",
    "        # Setup spaces\n",
    "        self.observation_space = Box(low=0, high=255, shape=(1,83,100), dtype=np.uint8)\n",
    "        self.action_space = Discrete(3)\n",
    "        # Capture game frames\n",
    "        self.cap = mss()\n",
    "        self.game_location = {'top': 200, 'left': 180, 'width': 200, 'height': 150}\n",
    "        self.done_location = {'top': 220, 'left': 370, 'width': 220, 'height': 35}\n",
    "\n",
    "    def step(self, action):\n",
    "        action_map = {\n",
    "            0:'space',\n",
    "            1: 'down',\n",
    "            2: 'no_op'\n",
    "        }\n",
    "        if action !=2:\n",
    "            pyautogui.press(action_map[action])\n",
    "\n",
    "        done, done_cap = self.get_done()\n",
    "        observation = self.get_observation()\n",
    "        reward = 1\n",
    "        info = {}\n",
    "\n",
    "        truncated = False\n",
    "        return observation, reward, done, truncated, info\n",
    "\n",
    "    def reset(self, seed=None, options=None):\n",
    "        if seed is not None:\n",
    "            self.np_random, seed = gymnasium.utils.seeding.np_random(seed)\n",
    "        time.sleep(1)\n",
    "        pyautogui.click(x=150, y=150)\n",
    "        pyautogui.press('space')\n",
    "        return self.get_observation(), {}\n",
    "\n",
    "    def render(self):\n",
    "        cv2.imshow('Game', self.current_frame)\n",
    "        if cv2.waitKey(1) & 0xFF == ord('q'):\n",
    "            self.close()\n",
    "\n",
    "    def close(self):\n",
    "        cv2.destroyAllWindows()\n",
    "\n",
    "    def get_observation(self):\n",
    "        raw = np.array(self.cap.grab(self.game_location))[:,:,:3].astype(np.uint8)\n",
    "        gray = cv2.cvtColor(raw, cv2.COLOR_BGR2GRAY)\n",
    "        resized = cv2.resize(gray, (100,83))\n",
    "        channel = np.reshape(resized, (1,83,100))\n",
    "        return channel\n",
    "\n",
    "    def get_done(self):\n",
    "        done_cap = np.array(self.cap.grab(self.done_location))\n",
    "        done_strings = ['GAME', 'GAME OVER']\n",
    "        done = False\n",
    "        # if np.sum(done_cap) < 44300000:\n",
    "        #     done = True\n",
    "        done = False\n",
    "        res = pytesseract.image_to_string(done_cap)[:4]\n",
    "        if res in done_strings:\n",
    "            done = True\n",
    "        return done, done_cap"
   ],
   "id": "e640a29c0e3937e9",
   "outputs": [],
   "execution_count": 167
  },
  {
   "metadata": {
    "ExecuteTime": {
     "end_time": "2025-04-13T12:42:16.577601Z",
     "start_time": "2025-04-13T12:42:16.571233Z"
    }
   },
   "cell_type": "code",
   "source": "env = WebGame()",
   "id": "48a6d5d9bc7923b2",
   "outputs": [],
   "execution_count": 168
  },
  {
   "metadata": {
    "ExecuteTime": {
     "end_time": "2025-04-13T12:42:17.673629Z",
     "start_time": "2025-04-13T12:42:17.632207Z"
    }
   },
   "cell_type": "code",
   "source": "obs = env.get_observation()",
   "id": "61083cf78a07dd1",
   "outputs": [],
   "execution_count": 169
  },
  {
   "metadata": {
    "ExecuteTime": {
     "end_time": "2025-04-13T12:42:19.443635Z",
     "start_time": "2025-04-13T12:42:19.260135Z"
    }
   },
   "cell_type": "code",
   "source": "plt.imshow(cv2.cvtColor(obs[0], cv2.COLOR_GRAY2BGR))",
   "id": "ef0e5a1efd9973b0",
   "outputs": [
    {
     "data": {
      "text/plain": [
       "<matplotlib.image.AxesImage at 0x13eabe260>"
      ]
     },
     "execution_count": 170,
     "metadata": {},
     "output_type": "execute_result"
    },
    {
     "data": {
      "text/plain": [
       "<Figure size 640x480 with 1 Axes>"
      ],
      "image/png": "[encoded data removed]"
     },
     "metadata": {},
     "output_type": "display_data"
    }
   ],
   "execution_count": 170
  },
  {
   "metadata": {
    "ExecuteTime": {
     "end_time": "2025-04-13T12:42:22.724091Z",
     "start_time": "2025-04-13T12:42:22.428498Z"
    }
   },
   "cell_type": "code",
   "source": "done, done_cap = env.get_done()",
   "id": "61c94a58af216356",
   "outputs": [],
   "execution_count": 171
  },
  {
   "metadata": {
    "ExecuteTime": {
     "end_time": "2025-04-13T12:42:22.855079Z",
     "start_time": "2025-04-13T12:42:22.733765Z"
    }
   },
   "cell_type": "code",
   "source": "plt.imshow(done_cap)",
   "id": "91470d91b53506a",
   "outputs": [
    {
     "data": {
      "text/plain": [
       "<matplotlib.image.AxesImage at 0x13eb37880>"
      ]
     },
     "execution_count": 172,
     "metadata": {},
     "output_type": "execute_result"
    },
    {
     "data": {
      "text/plain": [
       "<Figure size 640x480 with 1 Axes>"
      ],
      "image/png": "[encoded data removed]"
     },
     "metadata": {},
     "output_type": "display_data"
    }
   ],
   "execution_count": 172
  },
  {
   "metadata": {
    "ExecuteTime": {
     "end_time": "2025-04-13T12:42:23.650923Z",
     "start_time": "2025-04-13T12:42:23.477877Z"
    }
   },
   "cell_type": "code",
   "source": "pytesseract.image_to_string(done_cap)[:9]",
   "id": "9705441b3b667dd1",
   "outputs": [
    {
     "data": {
      "text/plain": [
       "'GAME OVER'"
      ]
     },
     "execution_count": 173,
     "metadata": {},
     "output_type": "execute_result"
    }
   ],
   "execution_count": 173
  },
  {
   "metadata": {
    "ExecuteTime": {
     "end_time": "2025-04-13T12:42:24.441060Z",
     "start_time": "2025-04-13T12:42:24.436308Z"
    }
   },
   "cell_type": "code",
   "source": "done",
   "id": "73903128db7b9828",
   "outputs": [
    {
     "data": {
      "text/plain": [
       "True"
      ]
     },
     "execution_count": 174,
     "metadata": {},
     "output_type": "execute_result"
    }
   ],
   "execution_count": 174
  },
  {
   "metadata": {
    "ExecuteTime": {
     "end_time": "2025-04-13T12:42:24.803591Z",
     "start_time": "2025-04-13T12:42:24.796922Z"
    }
   },
   "cell_type": "code",
   "source": "env.action_space.sample()",
   "id": "8e5d8f9ed07ff00f",
   "outputs": [
    {
     "data": {
      "text/plain": [
       "1"
      ]
     },
     "execution_count": 175,
     "metadata": {},
     "output_type": "execute_result"
    }
   ],
   "execution_count": 175
  },
  {
   "metadata": {
    "ExecuteTime": {
     "end_time": "2025-04-13T11:49:46.639524Z",
     "start_time": "2025-04-13T11:48:43.745595Z"
    }
   },
   "cell_type": "code",
   "source": [
    "for episode in range(10):\n",
    "    obs = env.reset()\n",
    "    done = False\n",
    "    total_reward = 0\n",
    "    while not done:\n",
    "        obs, reward, done, truncated, info = env.step(env.action_space.sample())\n",
    "        total_reward += reward\n",
    "    print('Total Reward for epis ode {} is {}'.format(episode, total_reward))"
   ],
   "id": "12f8bee0e55f0d3",
   "outputs": [
    {
     "name": "stdout",
     "output_type": "stream",
     "text": [
      "Total Reward for epis ode 0 is 16\n",
      "Total Reward for epis ode 1 is 16\n",
      "Total Reward for epis ode 2 is 16\n",
      "Total Reward for epis ode 3 is 16\n",
      "Total Reward for epis ode 4 is 16\n",
      "Total Reward for epis ode 5 is 15\n",
      "Total Reward for epis ode 6 is 17\n",
      "Total Reward for epis ode 7 is 22\n",
      "Total Reward for epis ode 8 is 17\n",
      "Total Reward for epis ode 9 is 17\n"
     ]
    }
   ],
   "execution_count": 95
  },
  {
   "metadata": {
    "ExecuteTime": {
     "end_time": "2025-04-13T11:30:05.936264Z",
     "start_time": "2025-04-13T11:30:03.479315Z"
    }
   },
   "cell_type": "code",
   "source": "!pip install stable-baselines3",
   "id": "ed5ecc4d009c24fb",
   "outputs": [
    {
     "name": "stdout",
     "output_type": "stream",
     "text": [
      "Requirement already satisfied: stable-baselines3 in ./.venv/lib/python3.10/site-packages (2.4.1)\r\n",
      "Requirement already satisfied: gymnasium<1.1.0,>=0.29.1 in ./.venv/lib/python3.10/site-packages (from stable-baselines3) (1.0.0)\r\n",
      "Requirement already satisfied: numpy<2.0,>=1.20 in ./.venv/lib/python3.10/site-packages (from stable-baselines3) (1.26.4)\r\n",
      "Requirement already satisfied: torch>=1.13 in ./.venv/lib/python3.10/site-packages (from stable-baselines3) (2.2.2)\r\n",
      "Requirement already satisfied: cloudpickle in ./.venv/lib/python3.10/site-packages (from stable-baselines3) (3.1.1)\r\n",
      "Requirement already satisfied: pandas in ./.venv/lib/python3.10/site-packages (from stable-baselines3) (2.2.3)\r\n",
      "Requirement already satisfied: matplotlib in ./.venv/lib/python3.10/site-packages (from stable-baselines3) (3.10.1)\r\n",
      "Requirement already satisfied: typing-extensions>=4.3.0 in ./.venv/lib/python3.10/site-packages (from gymnasium<1.1.0,>=0.29.1->stable-baselines3) (4.13.2)\r\n",
      "Requirement already satisfied: farama-notifications>=0.0.1 in ./.venv/lib/python3.10/site-packages (from gymnasium<1.1.0,>=0.29.1->stable-baselines3) (0.0.4)\r\n",
      "Requirement already satisfied: filelock in ./.venv/lib/python3.10/site-packages (from torch>=1.13->stable-baselines3) (3.18.0)\r\n",
      "Requirement already satisfied: sympy in ./.venv/lib/python3.10/site-packages (from torch>=1.13->stable-baselines3) (1.13.3)\r\n",
      "Requirement already satisfied: networkx in ./.venv/lib/python3.10/site-packages (from torch>=1.13->stable-baselines3) (3.4.2)\r\n",
      "Requirement already satisfied: jinja2 in ./.venv/lib/python3.10/site-packages (from torch>=1.13->stable-baselines3) (3.1.6)\r\n",
      "Requirement already satisfied: fsspec in ./.venv/lib/python3.10/site-packages (from torch>=1.13->stable-baselines3) (2025.3.2)\r\n",
      "Requirement already satisfied: contourpy>=1.0.1 in ./.venv/lib/python3.10/site-packages (from matplotlib->stable-baselines3) (1.3.1)\r\n",
      "Requirement already satisfied: cycler>=0.10 in ./.venv/lib/python3.10/site-packages (from matplotlib->stable-baselines3) (0.12.1)\r\n",
      "Requirement already satisfied: fonttools>=4.22.0 in ./.venv/lib/python3.10/site-packages (from matplotlib->stable-baselines3) (4.57.0)\r\n",
      "Requirement already satisfied: kiwisolver>=1.3.1 in ./.venv/lib/python3.10/site-packages (from matplotlib->stable-baselines3) (1.4.8)\r\n",
      "Requirement already satisfied: packaging>=20.0 in ./.venv/lib/python3.10/site-packages (from matplotlib->stable-baselines3) (24.2)\r\n",
      "Requirement already satisfied: pillow>=8 in ./.venv/lib/python3.10/site-packages (from matplotlib->stable-baselines3) (11.2.1)\r\n",
      "Requirement already satisfied: pyparsing>=2.3.1 in ./.venv/lib/python3.10/site-packages (from matplotlib->stable-baselines3) (3.2.3)\r\n",
      "Requirement already satisfied: python-dateutil>=2.7 in ./.venv/lib/python3.10/site-packages (from matplotlib->stable-baselines3) (2.9.0.post0)\r\n",
      "Requirement already satisfied: pytz>=2020.1 in ./.venv/lib/python3.10/site-packages (from pandas->stable-baselines3) (2025.2)\r\n",
      "Requirement already satisfied: tzdata>=2022.7 in ./.venv/lib/python3.10/site-packages (from pandas->stable-baselines3) (2025.2)\r\n",
      "Requirement already satisfied: six>=1.5 in ./.venv/lib/python3.10/site-packages (from python-dateutil>=2.7->matplotlib->stable-baselines3) (1.17.0)\r\n",
      "Requirement already satisfied: MarkupSafe>=2.0 in ./.venv/lib/python3.10/site-packages (from jinja2->torch>=1.13->stable-baselines3) (3.0.2)\r\n",
      "Requirement already satisfied: mpmath<1.4,>=1.1.0 in ./.venv/lib/python3.10/site-packages (from sympy->torch>=1.13->stable-baselines3) (1.3.0)\r\n",
      "\r\n",
      "\u001B[1m[\u001B[0m\u001B[34;49mnotice\u001B[0m\u001B[1;39;49m]\u001B[0m\u001B[39;49m A new release of pip is available: \u001B[0m\u001B[31;49m23.2.1\u001B[0m\u001B[39;49m -> \u001B[0m\u001B[32;49m25.0.1\u001B[0m\r\n",
      "\u001B[1m[\u001B[0m\u001B[34;49mnotice\u001B[0m\u001B[1;39;49m]\u001B[0m\u001B[39;49m To update, run: \u001B[0m\u001B[32;49mpip install --upgrade pip\u001B[0m\r\n"
     ]
    }
   ],
   "execution_count": 5
  },
  {
   "metadata": {
    "ExecuteTime": {
     "end_time": "2025-04-13T12:42:29.855464Z",
     "start_time": "2025-04-13T12:42:29.851425Z"
    }
   },
   "cell_type": "code",
   "source": [
    "import os\n",
    "from stable_baselines3.common.callbacks import BaseCallback\n",
    "from stable_baselines3.common import env_checker"
   ],
   "id": "8f09767df837cb4c",
   "outputs": [],
   "execution_count": 176
  },
  {
   "metadata": {
    "ExecuteTime": {
     "end_time": "2025-04-13T12:37:42.556802Z",
     "start_time": "2025-04-13T12:37:33.888709Z"
    }
   },
   "cell_type": "code",
   "source": "env_checker.check_env(env)",
   "id": "90e59ff685ffa6d8",
   "outputs": [],
   "execution_count": 156
  },
  {
   "metadata": {
    "ExecuteTime": {
     "end_time": "2025-04-13T12:42:32.266474Z",
     "start_time": "2025-04-13T12:42:32.260904Z"
    }
   },
   "cell_type": "code",
   "source": [
    "class TrainAndLoggingCallback(BaseCallback):\n",
    "    def __init__(self, check_freq, save_path, verbose=1):\n",
    "        super(TrainAndLoggingCallback, self).__init__(verbose)\n",
    "        self.check_freq = check_freq\n",
    "        self.save_path = save_path\n",
    "\n",
    "    def _init_callback(self) -> None:\n",
    "        if self.save_path is not None:\n",
    "            os.makedirs(self.save_path, exist_ok=True)\n",
    "\n",
    "    def _on_step(self) -> bool:\n",
    "        if self.n_calls % self.check_freq == 0:\n",
    "            model_path = os.path.join(self.save_path, 'best_model_{}'.format(self.n_calls))\n",
    "            self.model.save(model_path)\n",
    "\n",
    "        return True"
   ],
   "id": "4d705900d8042586",
   "outputs": [],
   "execution_count": 177
  },
  {
   "metadata": {
    "ExecuteTime": {
     "end_time": "2025-04-13T12:42:32.555696Z",
     "start_time": "2025-04-13T12:42:32.552390Z"
    }
   },
   "cell_type": "code",
   "source": [
    "CHECKPOINT_DIR = \"./train/\"\n",
    "LOG_DIR = \"./logs/\""
   ],
   "id": "410d9b44193df9c5",
   "outputs": [],
   "execution_count": 178
  },
  {
   "metadata": {
    "ExecuteTime": {
     "end_time": "2025-04-13T12:42:34.160109Z",
     "start_time": "2025-04-13T12:42:34.156642Z"
    }
   },
   "cell_type": "code",
   "source": "callback = TrainAndLoggingCallback(check_freq=300, save_path=CHECKPOINT_DIR)",
   "id": "9d674d78e61ff0e2",
   "outputs": [],
   "execution_count": 179
  },
  {
   "metadata": {
    "ExecuteTime": {
     "end_time": "2025-04-13T12:42:34.435346Z",
     "start_time": "2025-04-13T12:42:34.431620Z"
    }
   },
   "cell_type": "code",
   "source": [
    "from stable_baselines3 import DQN\n",
    "from stable_baselines3.common.monitor import Monitor\n",
    "from stable_baselines3.common.vec_env import DummyVecEnv, VecFrameStack"
   ],
   "id": "9199fd767462ae06",
   "outputs": [],
   "execution_count": 180
  },
  {
   "metadata": {
    "ExecuteTime": {
     "end_time": "2025-04-13T12:20:57.532527Z",
     "start_time": "2025-04-13T12:20:57.526964Z"
    }
   },
   "cell_type": "code",
   "source": "env = WebGame()",
   "id": "a8669e8d83753339",
   "outputs": [],
   "execution_count": 116
  },
  {
   "metadata": {
    "ExecuteTime": {
     "end_time": "2025-04-13T12:42:39.500658Z",
     "start_time": "2025-04-13T12:42:39.442632Z"
    }
   },
   "cell_type": "code",
   "source": "model = DQN('CnnPolicy', env, tensorboard_log=LOG_DIR, verbose=1, buffer_size=600000, learning_starts=1000)",
   "id": "bce2d7f1f94a1f39",
   "outputs": [
    {
     "name": "stdout",
     "output_type": "stream",
     "text": [
      "Using cpu device\n",
      "Wrapping the env with a `Monitor` wrapper\n",
      "Wrapping the env in a DummyVecEnv.\n"
     ]
    },
    {
     "name": "stderr",
     "output_type": "stream",
     "text": [
      "/Users/hwan/Documents/ml/DinoAI/.venv/lib/python3.10/site-packages/stable_baselines3/common/buffers.py:241: UserWarning: This system does not have apparently enough memory to store the complete replay buffer 9.97GB > 5.92GB\n",
      "  warnings.warn(\n"
     ]
    }
   ],
   "execution_count": 181
  },
  {
   "metadata": {
    "ExecuteTime": {
     "end_time": "2025-04-13T12:23:07.126565Z",
     "start_time": "2025-04-13T12:21:01.239444Z"
    }
   },
   "cell_type": "code",
   "source": "model.learn(total_timesteps=300, callback=callback)",
   "id": "bb5033325b485b92",
   "outputs": [
    {
     "name": "stdout",
     "output_type": "stream",
     "text": [
      "Logging to ./logs/DQN_3\n",
      "----------------------------------\n",
      "| rollout/            |          |\n",
      "|    ep_len_mean      | 15.5     |\n",
      "|    ep_rew_mean      | 15.5     |\n",
      "|    exploration_rate | 0.05     |\n",
      "| time/               |          |\n",
      "|    episodes         | 4        |\n",
      "|    fps              | 2        |\n",
      "|    time_elapsed     | 27       |\n",
      "|    total_timesteps  | 62       |\n",
      "----------------------------------\n",
      "----------------------------------\n",
      "| rollout/            |          |\n",
      "|    ep_len_mean      | 14.4     |\n",
      "|    ep_rew_mean      | 14.4     |\n",
      "|    exploration_rate | 0.05     |\n",
      "| time/               |          |\n",
      "|    episodes         | 8        |\n",
      "|    fps              | 2        |\n",
      "|    time_elapsed     | 52       |\n",
      "|    total_timesteps  | 115      |\n",
      "----------------------------------\n",
      "----------------------------------\n",
      "| rollout/            |          |\n",
      "|    ep_len_mean      | 14.8     |\n",
      "|    ep_rew_mean      | 14.8     |\n",
      "|    exploration_rate | 0.05     |\n",
      "| time/               |          |\n",
      "|    episodes         | 12       |\n",
      "|    fps              | 2        |\n",
      "|    time_elapsed     | 77       |\n",
      "|    total_timesteps  | 178      |\n",
      "----------------------------------\n",
      "----------------------------------\n",
      "| rollout/            |          |\n",
      "|    ep_len_mean      | 14.8     |\n",
      "|    ep_rew_mean      | 14.8     |\n",
      "|    exploration_rate | 0.05     |\n",
      "| time/               |          |\n",
      "|    episodes         | 16       |\n",
      "|    fps              | 2        |\n",
      "|    time_elapsed     | 101      |\n",
      "|    total_timesteps  | 237      |\n",
      "----------------------------------\n",
      "----------------------------------\n",
      "| rollout/            |          |\n",
      "|    ep_len_mean      | 15       |\n",
      "|    ep_rew_mean      | 15       |\n",
      "|    exploration_rate | 0.05     |\n",
      "| time/               |          |\n",
      "|    episodes         | 20       |\n",
      "|    fps              | 2        |\n",
      "|    time_elapsed     | 125      |\n",
      "|    total_timesteps  | 300      |\n",
      "----------------------------------\n"
     ]
    },
    {
     "data": {
      "text/plain": [
       "<stable_baselines3.dqn.dqn.DQN at 0x142445c30>"
      ]
     },
     "execution_count": 118,
     "metadata": {},
     "output_type": "execute_result"
    }
   ],
   "execution_count": 118
  },
  {
   "metadata": {
    "ExecuteTime": {
     "end_time": "2025-04-13T12:30:08.007122Z",
     "start_time": "2025-04-13T12:30:04.663679Z"
    }
   },
   "cell_type": "code",
   "source": "!pip install 'shimmy>=0.2.1'",
   "id": "d8a4af0aa15ab61",
   "outputs": [
    {
     "name": "stdout",
     "output_type": "stream",
     "text": [
      "Collecting shimmy>=0.2.1\r\n",
      "  Obtaining dependency information for shimmy>=0.2.1 from https://files.pythonhosted.org/packages/4e/e9/64879ed81025b73865a0b6e5668735bf0b71feff5abb6e7a2bee2a1deae9/Shimmy-2.0.0-py3-none-any.whl.metadata\r\n",
      "  Downloading Shimmy-2.0.0-py3-none-any.whl.metadata (3.5 kB)\r\n",
      "Requirement already satisfied: numpy>=1.18.0 in ./.venv/lib/python3.10/site-packages (from shimmy>=0.2.1) (1.26.4)\r\n",
      "Requirement already satisfied: gymnasium>=1.0.0a1 in ./.venv/lib/python3.10/site-packages (from shimmy>=0.2.1) (1.0.0)\r\n",
      "Requirement already satisfied: cloudpickle>=1.2.0 in ./.venv/lib/python3.10/site-packages (from gymnasium>=1.0.0a1->shimmy>=0.2.1) (3.1.1)\r\n",
      "Requirement already satisfied: typing-extensions>=4.3.0 in ./.venv/lib/python3.10/site-packages (from gymnasium>=1.0.0a1->shimmy>=0.2.1) (4.13.2)\r\n",
      "Requirement already satisfied: farama-notifications>=0.0.1 in ./.venv/lib/python3.10/site-packages (from gymnasium>=1.0.0a1->shimmy>=0.2.1) (0.0.4)\r\n",
      "Downloading Shimmy-2.0.0-py3-none-any.whl (30 kB)\r\n",
      "Installing collected packages: shimmy\r\n",
      "Successfully installed shimmy-2.0.0\r\n",
      "\r\n",
      "\u001B[1m[\u001B[0m\u001B[34;49mnotice\u001B[0m\u001B[1;39;49m]\u001B[0m\u001B[39;49m A new release of pip is available: \u001B[0m\u001B[31;49m23.2.1\u001B[0m\u001B[39;49m -> \u001B[0m\u001B[32;49m25.0.1\u001B[0m\r\n",
      "\u001B[1m[\u001B[0m\u001B[34;49mnotice\u001B[0m\u001B[1;39;49m]\u001B[0m\u001B[39;49m To update, run: \u001B[0m\u001B[32;49mpip install --upgrade pip\u001B[0m\r\n"
     ]
    }
   ],
   "execution_count": 133
  },
  {
   "metadata": {
    "ExecuteTime": {
     "end_time": "2025-04-13T12:38:05.672850Z",
     "start_time": "2025-04-13T12:38:05.669044Z"
    }
   },
   "cell_type": "code",
   "source": " # model.load('train/best_model_88000')",
   "id": "1600d72de34ece0b",
   "outputs": [],
   "execution_count": 162
  },
  {
   "metadata": {
    "ExecuteTime": {
     "end_time": "2025-04-13T12:42:46.831074Z",
     "start_time": "2025-04-13T12:42:46.705821Z"
    }
   },
   "cell_type": "code",
   "source": "model = DQN.load(os.path.join('train', 'best_model_88000'))",
   "id": "e703579fc3a244a6",
   "outputs": [
    {
     "name": "stderr",
     "output_type": "stream",
     "text": [
      "/Users/hwan/Documents/ml/DinoAI/.venv/lib/python3.10/site-packages/stable_baselines3/common/vec_env/patch_gym.py:95: UserWarning: You loaded a model that was trained using OpenAI Gym. We strongly recommend transitioning to Gymnasium by saving that model again.\n",
      "  warnings.warn(\n",
      "/Users/hwan/Documents/ml/DinoAI/.venv/lib/python3.10/site-packages/stable_baselines3/common/buffers.py:241: UserWarning: This system does not have apparently enough memory to store the complete replay buffer 19.94GB > 5.83GB\n",
      "  warnings.warn(\n",
      "/Users/hwan/Documents/ml/DinoAI/.venv/lib/python3.10/site-packages/stable_baselines3/common/base_class.py:772: UserWarning: You are probably loading a DQN model saved with SB3 < 2.4.0, we truncated the optimizer state so you can save the model again to avoid issues in the future (see https://github.com/DLR-RM/stable-baselines3/pull/1963 for more info). Original error: loaded state dict contains a parameter group that doesn't match the size of optimizer's group \n",
      "Note: the model should still work fine, this only a warning.\n",
      "  warnings.warn(\n"
     ]
    }
   ],
   "execution_count": 182
  },
  {
   "metadata": {
    "ExecuteTime": {
     "end_time": "2025-04-13T12:44:49.885852Z",
     "start_time": "2025-04-13T12:44:09.337611Z"
    }
   },
   "cell_type": "code",
   "source": [
    "for episode in range(5):\n",
    "    obs, _ = env.reset()\n",
    "    done = False\n",
    "    total_reward = 0\n",
    "    while not done:\n",
    "        action, _ = model.predict(obs)\n",
    "        obs, reward, done, truncated, info = env.step(int(action))\n",
    "        # time.sleep(0.01)\n",
    "        total_reward += reward\n",
    "    print('Total Reward for episode {} is {}'.format(episode, total_reward))\n",
    "    time.sleep(2)"
   ],
   "id": "283ed45e4e81f9e1",
   "outputs": [
    {
     "name": "stdout",
     "output_type": "stream",
     "text": [
      "Total Reward for episode 0 is 14\n",
      "Total Reward for episode 1 is 15\n",
      "Total Reward for episode 2 is 14\n",
      "Total Reward for episode 3 is 15\n",
      "Total Reward for episode 4 is 14\n"
     ]
    }
   ],
   "execution_count": 184
  },
  {
   "metadata": {},
   "cell_type": "code",
   "outputs": [],
   "execution_count": null,
   "source": "",
   "id": "aaaa1eadb326c508"
  }
 ],
 "metadata": {
  "kernelspec": {
   "display_name": "Python 3",
   "language": "python",
   "name": "python3"
  },
  "language_info": {
   "codemirror_mode": {
    "name": "ipython",
    "version": 2
   },
   "file_extension": ".py",
   "mimetype": "text/x-python",
   "name": "python",
   "nbconvert_exporter": "python",
   "pygments_lexer": "ipython2",
   "version": "2.7.6"
  }
 },
 "nbformat": 4,
 "nbformat_minor": 5
}
